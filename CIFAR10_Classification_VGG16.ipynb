{
  "cells": [
    {
      "cell_type": "markdown",
      "metadata": {
        "id": "view-in-github",
        "colab_type": "text"
      },
      "source": [
        "<a href=\"https://colab.research.google.com/github/YenaChoi00/ML-Final-Project/blob/main/CIFAR10_Classification_VGG16.ipynb\" target=\"_parent\"><img src=\"https://colab.research.google.com/assets/colab-badge.svg\" alt=\"Open In Colab\"/></a>"
      ]
    },
    {
      "cell_type": "markdown",
      "metadata": {
        "id": "8H2mplXJU1d6"
      },
      "source": [
        "# ***Final Project***\n",
        "---\n",
        "\n",
        "In this project, you will develop a convolutional neural network (CNN) to perform classification, and test it out on the CIFAR-10 dataset.\n",
        "\n",
        "\n",
        "The given code is a simple implement for the CIFAR-10 classification. \n",
        "\n",
        "The goal of the final project is to check whether you understand important concepts for training CNN such as:\n",
        "\n",
        "*   Network architecture\n",
        "*   Optimization\n",
        "*   Loss function\n",
        "*   Data preprocessing\n",
        "*   Regularization\n",
        "*   ...\n",
        "\n",
        "Therefore, you can **modify the given code to improve the performance** of the network **except for the dataset (i.e. trainset and testset)**.\n",
        "\n",
        "You should **upload your code and your report** including an explaination of your code and what you have changed or added."
      ]
    },
    {
      "cell_type": "markdown",
      "metadata": {
        "id": "YmVSPVANZ0uG"
      },
      "source": [
        "class : 10개\n",
        "나오는 output : 4개의 batch size에 대해 4*10\n",
        "output feature가 10이 되는..\n",
        "\n",
        "#수정해야 할 부분\n",
        "data preprocessing\n",
        "network\n",
        "loss function - cross entro..는 그대로 두기! 다른거 추가해서 사용해도 됨\n",
        "adam도 바꿔도 됨,\n",
        "scheduls???? 이런것도 바꿔도 됨\n",
        "regulization 추가 가능\n",
        "epochs 수 조정"
      ]
    },
    {
      "cell_type": "code",
      "execution_count": null,
      "metadata": {
        "id": "Fr9zgCgCmdNq"
      },
      "outputs": [],
      "source": [
        "# AS usual, a bit of setup\n",
        "# If you need other libraries, you should import the libraries.\n",
        "\n",
        "# os와 sys: 파일 및 시스템 관련 기능을 제공하는 모듈입니다.\n",
        "# torch: PyTorch 라이브러리를 import합니다.\n",
        "# nn (torch.nn): 신경망 모델 구축을 위한 클래스들을 제공하는 모듈입니다.\n",
        "# functional (torch.nn.functional): 활성화 함수, 손실 함수 등과 같은 기능을 포함하는 함수들을 제공하는 모듈입니다.\n",
        "# 그리고 CIFAR-10 데이터셋을 사용하기 위해 torchvision 라이브러리에서 transforms와 datasets를 import하고 있습니다. 데이터 시각화를 위한 matplotlib.pyplot과 배열 연산을 위한 numpy도 import하고 있습니다.\n",
        "\n",
        "import os, sys\n",
        "import torch\n",
        "from torch import nn\n",
        "from torch.nn import functional as F\n",
        "\n",
        "import torchvision\n",
        "import torchvision.transforms as transforms\n",
        "import torchvision.datasets as datasets\n",
        "\n",
        "import matplotlib.pyplot as plt\n",
        "import numpy as np\n",
        "\n",
        "\n",
        "from torchsummary import summary as summary_  # 모델의 summary 보기 위해 추가"
      ]
    },
    {
      "cell_type": "code",
      "execution_count": null,
      "metadata": {
        "colab": {
          "base_uri": "https://localhost:8080/"
        },
        "id": "V9pg5nB1pXEO",
        "outputId": "a8e576f2-b9d3-46c3-a052-2e8042c7791d"
      },
      "outputs": [
        {
          "output_type": "stream",
          "name": "stdout",
          "text": [
            "cuda\n"
          ]
        }
      ],
      "source": [
        "# Set the device\n",
        "\n",
        "# 이 코드는 사용 가능한 GPU가 있는 경우 디바이스를 CUDA로 설정하고, 그렇지 않은 경우 CPU로 설정합니다.\n",
        "\n",
        "# torch.cuda.is_available(): CUDA가 사용 가능한지 확인하는 함수입니다. GPU가 사용 가능한 경우 True를 반환하고, 그렇지 않은 경우 False를 반환합니다.\n",
        "# device 변수에는 'cuda' 또는 'cpu'가 할당됩니다. 그리고 print(device)를 통해 현재 설정된 디바이스를 출력합니다.\n",
        "\n",
        "device = 'cuda' if torch.cuda.is_available() else 'cpu'\n",
        "print(device)"
      ]
    },
    {
      "cell_type": "markdown",
      "metadata": {
        "id": "q-G1AJVsbqwc"
      },
      "source": [
        "# **Data Loader**\n",
        "\n",
        "You can load the CIFAR-10 dataset using the library `torchvision.datasets`\n",
        "\n",
        "The details of CIFAR-10 dataset can be found in https://www.cs.toronto.edu/~kriz/cifar.html\n",
        "\n",
        "`transforms_cifar10` is used to assemble several transforms for data preprossing."
      ]
    },
    {
      "cell_type": "code",
      "execution_count": null,
      "metadata": {
        "colab": {
          "base_uri": "https://localhost:8080/"
        },
        "id": "HOEFPBpcmmHU",
        "outputId": "e58e049c-fff5-4fe1-9170-27b61dbd4788"
      },
      "outputs": [
        {
          "output_type": "stream",
          "name": "stdout",
          "text": [
            "Files already downloaded and verified\n",
            "Files already downloaded and verified\n"
          ]
        }
      ],
      "source": [
        "# 이 코드는 CIFAR-10 데이터셋을 불러와서 전처리를 수행하고, 훈련 및 테스트 데이터로 나누는 부분입니다.\n",
        "\n",
        "# transforms.Compose: 여러 개의 데이터 전처리 작업을 한 번에 적용하기 위한 함수입니다. 인자로 전달된 전처리 함수들을 순차적으로 적용합니다.\n",
        "# transforms.Resize: 이미지 크기를 조정하는 전처리 함수입니다. CIFAR-10의 이미지는 32x32 크기로 조정됩니다.\n",
        "# transforms.ToTensor: 이미지를 PyTorch Tensor로 변환하는 전처리 함수입니다.\n",
        "# transforms.Normalize: 이미지의 픽셀 값을 정규화하는 전처리 함수입니다. 평균과 표준편차를 사용하여 정규화합니다. 여기서는 각 채널의 평균과 표준편차를 (0.5, 0.5, 0.5)로 설정하여 정규화합니다.\n",
        "# transforms_cifar10은 위의 전처리 함수들을 순차적으로 적용하는 변환 파이프라인입니다.\n",
        "\n",
        "# trainset: CIFAR-10 훈련 데이터셋을 생성합니다. root는 데이터셋의 다운로드 위치를 지정합니다. train=True는 훈련 데이터셋을 의미하며, download=True는 데이터셋이 없는 경우 다운로드합니다. transform에는 위에서 정의한 transforms_cifar10를 전달하여 데이터셋의 전처리를 수행합니다.\n",
        "# trainloader: 훈련 데이터셋을 미니배치로 나누고 데이터를 섞어주는 데이터 로더입니다. batch_size=4는 미니배치의 크기를 4로 설정합니다. shuffle=True는 데이터를 섞어서 무작위로 골고루 가져올 수 있도록 합니다. num_workers=2는 데이터 로딩을 위한 병렬 작업자의 수를 지정합니다.\n",
        "# 위와 마찬가지로, testset과 testloader는 테스트 데이터셋에 대한 데이터셋과 데이터 로더를 생성하는 역할을 합니다.\n",
        "\n",
        "# 마지막으로, classes는 CIFAR-10 데이터셋의 클래스들을 나타내는 튜플입니다. 각 클래스는 \"plane\", \"car\", \"bird\", \"cat\", \"deer\", \"dog\", \"frog\", \"horse\", \"ship\", \"truck\"으로 표현됩니다.\n",
        "\n",
        "train_cifar10 = transforms.Compose([transforms.Resize((32, 32)),     ## 32.32는 수정불가\n",
        "                                  transforms.RandomHorizontalFlip(),\n",
        "                                  transforms.RandomRotation(10),\n",
        "                                  transforms.RandomAffine(0, shear=10, scale=(0.8, 1.2)),\n",
        "                                  transforms.ColorJitter(brightness=0.2, contrast=0.2, saturation=0.2),\n",
        "                                  transforms.ToTensor(),\n",
        "                                  transforms.Normalize((0.5, 0.5, 0.5), (0.5, 0.5, 0.5))    # 여기에 preprocessing할 때 추가적으로 넣어도 됨. preprocessing은 tensor로 바뀌기 전에 \n",
        "                                 ])\n",
        "\n",
        "# # color Jitter 조정, randomvertival flip\n",
        "# train_cifar10 = transforms.Compose([transforms.Resize((32, 32)),     ## 32.32는 수정불가\n",
        "#                                   transforms.RandomHorizontalFlip(),\n",
        "#                                   transforms.RandomVerticalFlip(),\n",
        "#                                   transforms.RandomRotation(10),\n",
        "#                                   transforms.RandomAffine(0, shear=10, scale=(0.8, 1.2)),\n",
        "#                                   transforms.ColorJitter(brightness=0.2, contrast=0.2, saturation=0.2, hue=0.1),\n",
        "#                                   transforms.ToTensor(),\n",
        "#                                   transforms.Normalize((0.5, 0.5, 0.5), (0.5, 0.5, 0.5))    # 여기에 preprocessing할 때 추가적으로 넣어도 됨. preprocessing은 tensor로 바뀌기 전에 \n",
        "#                                  ])\n",
        "\n",
        "\n",
        "\n",
        "test_cifar10 = transforms.Compose([transforms.Resize((32, 32)),     ## 32.32는 수정불가\n",
        "                                  transforms.ToTensor(),\n",
        "                                  transforms.Normalize((0.5, 0.5, 0.5), (0.5, 0.5, 0.5))    # 여기에 preprocessing할 때 추가적으로 넣어도 됨. preprocessing은 tensor로 바뀌기 전에 \n",
        "                                 ])\n",
        "\n",
        "# Train dataset\n",
        "trainset = datasets.CIFAR10(root='./data', train=True, download=True, transform=train_cifar10)\n",
        "trainloader = torch.utils.data.DataLoader(trainset, batch_size=4, shuffle=True, num_workers=2)    # batch size 수정가능. shuffle : True/False 선택가능, num_workers는 CPU 수 그래서  수정 불필요\n",
        "\n",
        "# Test dataset\n",
        "testset = datasets.CIFAR10(root='./data', train=False, download=True, transform=test_cifar10)\n",
        "testloader = torch.utils.data.DataLoader(testset, batch_size=4, shuffle=False, num_workers=2)\n",
        "\n",
        "# Classes of CIFAR-10 dataset 10개의 dataset. 수정 불필요\n",
        "classes = (\"plane\", \"car\", \"bird\", \"cat\", \"deer\", \"dog\", \"frog\", \"horse\", \"ship\", \"truck\")"
      ]
    },
    {
      "cell_type": "code",
      "execution_count": null,
      "metadata": {
        "colab": {
          "base_uri": "https://localhost:8080/",
          "height": 211
        },
        "id": "d7JdtMAzoCac",
        "outputId": "2644113c-9dae-4370-bfc0-405c1b0a25fc"
      },
      "outputs": [
        {
          "output_type": "stream",
          "name": "stdout",
          "text": [
            "  dog plane   cat truck\n"
          ]
        },
        {
          "output_type": "display_data",
          "data": {
            "text/plain": [
              "<Figure size 640x480 with 1 Axes>"
            ],
            "image/png": "[encoded data removed]"
          },
          "metadata": {}
        }
      ],
      "source": [
        "# 이 코드는 데이터셋에서 가져온 예시 이미지들을 시각화하고, 해당 이미지들의 라벨을 출력하는 부분입니다.\n",
        "\n",
        "# imshow: 이미지를 시각화하기 위한 함수입니다. 입력된 이미지를 0.5로 나누고 0.5를 더하여 범위를 [0, 1]로 변환합니다. 그리고 이미지를 numpy 배열로 변환하고, plt.imshow를 사용하여 이미지를 표시합니다.\n",
        "# dataiter: trainloader를 이터레이터로 변환합니다.\n",
        "# imgs, labels: next(dataiter)를 통해 다음 미니배치의 이미지와 라벨을 가져옵니다.\n",
        "# torchvision.utils.make_grid: 이미지들을 그리드 형태로 결합하여 하나의 이미지로 만들어줍니다.\n",
        "# plt.imshow를 사용하여 결합된 이미지를 표시합니다.\n",
        "# ' '.join('%5s' % classes[labels[j]] for j in range(4)): 4개의 이미지에 대한 라벨을 출력합니다. labels에는 이미지들의 정답 라벨이 들어있고, classes에는 CIFAR-10 클래스들이 들어있습니다.\n",
        "#  이를 활용하여 정답 라벨을 문자열로 변환하고, ' '.join()을 사용하여 공백을 포함하여 출력합니다.\n",
        "\n",
        "# Examples of dataset\n",
        "# 예시 이미지를 가져온 것\n",
        "def imshow(img):\n",
        "  img = img /2 + 0.5\n",
        "  npimg = img.numpy()\n",
        "  plt.imshow(np.transpose(npimg, (1, 2, 0)))\n",
        "\n",
        "dataiter = iter(trainloader)\n",
        "imgs, labels = next(dataiter)\n",
        "\n",
        "imshow(torchvision.utils.make_grid(imgs))\n",
        "print(' '.join('%5s' % classes[labels[j]] for j in range(4)))"
      ]
    },
    {
      "cell_type": "markdown",
      "metadata": {
        "id": "Y77itjthc5Xh"
      },
      "source": [
        "# **Your own CNN**\n",
        "\n",
        "You can implement your own network using libraries such as `torch.nn`and `torch.nn.functional`.\n",
        "\n",
        "`SimpleNet` and `VGG11` are examples to help your understand the implementation of the network.\n",
        "\n",
        "So, you can modify the given codes or create another awesome neural network for CIFAR-10 classification."
      ]
    },
    {
      "cell_type": "code",
      "execution_count": null,
      "metadata": {
        "id": "11oMT_o1mnL2"
      },
      "outputs": [],
      "source": [
        "# VGG Model\n",
        "\n",
        "# 이 코드는 CIFAR-10 이미지 분류를 위한 VGG11 모델을 정의하는 부분입니다.\n",
        "\n",
        "# cfg: VGG11 아키텍처의 구성을 나타내는 딕셔너리입니다. 딕셔너리의 값은 컨볼루션 레이어와 풀링 레이어의 출력 채널 수를 나타냅니다.\n",
        "# VGG11: nn.Module을 상속하는 클래스입니다. 이 클래스는 모델의 구조와 forward 연산을 정의합니다.\n",
        "# __init__ 메서드: 모델의 레이어들을 초기화합니다. make_layers 함수를 호출하여 컨볼루션 레이어와 분류기 레이어를 생성합니다.\n",
        "# self.features: 컨볼루션 레이어들로 구성된 특성 추출기입니다. make_layers 함수를 통해 생성된 레이어들을 포함합니다.\n",
        "# self.classifier: 분류기 레이어입니다. 512개의 입력을 받아 10개의 출력을 생성하는 선형 레이어입니다.\n",
        "# make_layers 메서드: 주어진 구성(cfg)에 따라 컨볼루션 레이어들을 생성하여 순차적으로 연결합니다.\n",
        "# layers 리스트에 컨볼루션, 배치 정규화 및 ReLU 활성화 함수를 포함한 레이어들을 추가합니다.\n",
        "# nn.MaxPool2d를 사용하여 풀링 레이어를 추가합니다.\n",
        "# forward 메서드: 입력 데이터를 받아 순전파 연산을 수행합니다. 특성 추출기를 통과한 후에는 2D 텐서를 1D로 평탄화하여 분류기에 입력으로 제공합니다.\n",
        "# net: VGG11 클래스의 인스턴스를 생성하고, to(device)를 사용하여 모델을 지정한 디바이스 (GPU 또는 CPU)로 이동합니다.\n",
        "\n",
        "cfg = {\n",
        "    'VGG11': [64, 'M', 128, 'M', 256, 256, 'M', 512, 512, 'M', 512, 512, 'M'],\n",
        "    'VGG16': [64, 64, 'M', 128, 128, 'M', 256, 256, 256, 'M', 512, 512, 512, 'M', 512, 512, 512, 'M']\n",
        "    }  \n",
        "\n",
        "class VGG16(nn.Module):\n",
        "    def __init__(self,\n",
        "                 in_channels=3,\n",
        "                 num_classes=1000,\n",
        "                 init_weights=True,\n",
        "                 model='VGG16'):\n",
        "        super(VGG16, self).__init__()\n",
        "        self.in_channels = in_channels\n",
        "        self.features = self.make_layers(cfg[model])\n",
        "        self.classifier = nn.Linear(512, 10)\n",
        "\n",
        "        self.fc_layers = nn.Sequential(\n",
        "            nn.Linear(512 * 4 * 4, 4096),\n",
        "            nn.ReLU(True),\n",
        "            nn.Dropout(),\n",
        "            nn.Linear(4096, 4096),\n",
        "            nn.ReLU(True),\n",
        "            nn.Dropout(p=0.5),\n",
        "            nn.Linear(4096, num_classes)\n",
        "        )\n",
        "\n",
        "        if init_weights == True:\n",
        "          self._initialize_weights()\n",
        "\n",
        "\n",
        "    def forward(self, x):\n",
        "        #out = F.normalize(x, dim=0)\n",
        "        #out = F.normalize(x, p=2.0, dim=1, eps=1e-12, out=None)\n",
        "        out = self.features(x)\n",
        "        out = out.view(out.size(0), -1)\n",
        "        out = self.classifier(out)\n",
        "        return out\n",
        "\n",
        "    # def make_layers(self, cfg):\n",
        "    def make_layers(self, cfg):\n",
        "        layers = []\n",
        "        in_channels = 3\n",
        "        for x in cfg:\n",
        "            if x == 'M':\n",
        "                layers += [nn.MaxPool2d(kernel_size=2, stride=2)]\n",
        "            else:\n",
        "                layers += [nn.Conv2d(in_channels, x, kernel_size=3, padding=1),\n",
        "                           nn.BatchNorm2d(x),\n",
        "                           nn.ReLU(inplace=True)]\n",
        "                in_channels = x\n",
        "        layers += [nn.AvgPool2d(kernel_size=1, stride=1)]\n",
        "        return nn.Sequential(*layers)\n",
        "\n",
        "    def _initialize_weights(self):\n",
        "      # modules -> Sequential의 모든 layer\n",
        "      for m in self.modules():\n",
        "        # Conv layer 초기화\n",
        "        if isinstance(m, nn.Conv2d):\n",
        "            # he_initialization(ReLU에 최적화)\n",
        "            nn.init.kaiming_normal_(m.weight,\n",
        "                                    mode='fan_out',\n",
        "                                    nonlinearity='relu')\n",
        "            if m.bias is not None:\n",
        "                nn.init.constant_(m.bias, 0)\n",
        "\n",
        "        elif isinstance(m, nn.BatchNorm2d):\n",
        "            nn.init.constant_(m.weight, 1)\n",
        "            nn.init.constant_(m.bias, 0)\n",
        "\n",
        "        elif isinstance(m, nn.Linear):\n",
        "            nn.init.normal_(m.weight, 0, 0.01)\n",
        "            nn.init.normal_(m.bias, 0)\n",
        "\n",
        "\n",
        "net = VGG16().to(device)"
      ]
    },
    {
      "cell_type": "code",
      "execution_count": null,
      "metadata": {
        "colab": {
          "base_uri": "https://localhost:8080/"
        },
        "id": "t6UTnTJsBC7B",
        "outputId": "ea37bfeb-02cb-43d8-f94b-047a01bf7661"
      },
      "outputs": [
        {
          "output_type": "stream",
          "name": "stdout",
          "text": [
            "VGG16(\n",
            "  (features): Sequential(\n",
            "    (0): Conv2d(3, 64, kernel_size=(3, 3), stride=(1, 1), padding=(1, 1))\n",
            "    (1): BatchNorm2d(64, eps=1e-05, momentum=0.1, affine=True, track_running_stats=True)\n",
            "    (2): ReLU(inplace=True)\n",
            "    (3): Conv2d(64, 64, kernel_size=(3, 3), stride=(1, 1), padding=(1, 1))\n",
            "    (4): BatchNorm2d(64, eps=1e-05, momentum=0.1, affine=True, track_running_stats=True)\n",
            "    (5): ReLU(inplace=True)\n",
            "    (6): MaxPool2d(kernel_size=2, stride=2, padding=0, dilation=1, ceil_mode=False)\n",
            "    (7): Conv2d(64, 128, kernel_size=(3, 3), stride=(1, 1), padding=(1, 1))\n",
            "    (8): BatchNorm2d(128, eps=1e-05, momentum=0.1, affine=True, track_running_stats=True)\n",
            "    (9): ReLU(inplace=True)\n",
            "    (10): Conv2d(128, 128, kernel_size=(3, 3), stride=(1, 1), padding=(1, 1))\n",
            "    (11): BatchNorm2d(128, eps=1e-05, momentum=0.1, affine=True, track_running_stats=True)\n",
            "    (12): ReLU(inplace=True)\n",
            "    (13): MaxPool2d(kernel_size=2, stride=2, padding=0, dilation=1, ceil_mode=False)\n",
            "    (14): Conv2d(128, 256, kernel_size=(3, 3), stride=(1, 1), padding=(1, 1))\n",
            "    (15): BatchNorm2d(256, eps=1e-05, momentum=0.1, affine=True, track_running_stats=True)\n",
            "    (16): ReLU(inplace=True)\n",
            "    (17): Conv2d(256, 256, kernel_size=(3, 3), stride=(1, 1), padding=(1, 1))\n",
            "    (18): BatchNorm2d(256, eps=1e-05, momentum=0.1, affine=True, track_running_stats=True)\n",
            "    (19): ReLU(inplace=True)\n",
            "    (20): Conv2d(256, 256, kernel_size=(3, 3), stride=(1, 1), padding=(1, 1))\n",
            "    (21): BatchNorm2d(256, eps=1e-05, momentum=0.1, affine=True, track_running_stats=True)\n",
            "    (22): ReLU(inplace=True)\n",
            "    (23): MaxPool2d(kernel_size=2, stride=2, padding=0, dilation=1, ceil_mode=False)\n",
            "    (24): Conv2d(256, 512, kernel_size=(3, 3), stride=(1, 1), padding=(1, 1))\n",
            "    (25): BatchNorm2d(512, eps=1e-05, momentum=0.1, affine=True, track_running_stats=True)\n",
            "    (26): ReLU(inplace=True)\n",
            "    (27): Conv2d(512, 512, kernel_size=(3, 3), stride=(1, 1), padding=(1, 1))\n",
            "    (28): BatchNorm2d(512, eps=1e-05, momentum=0.1, affine=True, track_running_stats=True)\n",
            "    (29): ReLU(inplace=True)\n",
            "    (30): Conv2d(512, 512, kernel_size=(3, 3), stride=(1, 1), padding=(1, 1))\n",
            "    (31): BatchNorm2d(512, eps=1e-05, momentum=0.1, affine=True, track_running_stats=True)\n",
            "    (32): ReLU(inplace=True)\n",
            "    (33): MaxPool2d(kernel_size=2, stride=2, padding=0, dilation=1, ceil_mode=False)\n",
            "    (34): Conv2d(512, 512, kernel_size=(3, 3), stride=(1, 1), padding=(1, 1))\n",
            "    (35): BatchNorm2d(512, eps=1e-05, momentum=0.1, affine=True, track_running_stats=True)\n",
            "    (36): ReLU(inplace=True)\n",
            "    (37): Conv2d(512, 512, kernel_size=(3, 3), stride=(1, 1), padding=(1, 1))\n",
            "    (38): BatchNorm2d(512, eps=1e-05, momentum=0.1, affine=True, track_running_stats=True)\n",
            "    (39): ReLU(inplace=True)\n",
            "    (40): Conv2d(512, 512, kernel_size=(3, 3), stride=(1, 1), padding=(1, 1))\n",
            "    (41): BatchNorm2d(512, eps=1e-05, momentum=0.1, affine=True, track_running_stats=True)\n",
            "    (42): ReLU(inplace=True)\n",
            "    (43): MaxPool2d(kernel_size=2, stride=2, padding=0, dilation=1, ceil_mode=False)\n",
            "    (44): AvgPool2d(kernel_size=1, stride=1, padding=0)\n",
            "  )\n",
            "  (classifier): Linear(in_features=512, out_features=10, bias=True)\n",
            "  (fc_layers): Sequential(\n",
            "    (0): Linear(in_features=8192, out_features=4096, bias=True)\n",
            "    (1): ReLU(inplace=True)\n",
            "    (2): Dropout(p=0.5, inplace=False)\n",
            "    (3): Linear(in_features=4096, out_features=4096, bias=True)\n",
            "    (4): ReLU(inplace=True)\n",
            "    (5): Dropout(p=0.5, inplace=False)\n",
            "    (6): Linear(in_features=4096, out_features=1000, bias=True)\n",
            "  )\n",
            ")\n",
            "----------------------------------------------------------------\n",
            "        Layer (type)               Output Shape         Param #\n",
            "================================================================\n",
            "            Conv2d-1           [-1, 64, 32, 32]           1,792\n",
            "       BatchNorm2d-2           [-1, 64, 32, 32]             128\n",
            "              ReLU-3           [-1, 64, 32, 32]               0\n",
            "            Conv2d-4           [-1, 64, 32, 32]          36,928\n",
            "       BatchNorm2d-5           [-1, 64, 32, 32]             128\n",
            "              ReLU-6           [-1, 64, 32, 32]               0\n",
            "         MaxPool2d-7           [-1, 64, 16, 16]               0\n",
            "            Conv2d-8          [-1, 128, 16, 16]          73,856\n",
            "       BatchNorm2d-9          [-1, 128, 16, 16]             256\n",
            "             ReLU-10          [-1, 128, 16, 16]               0\n",
            "           Conv2d-11          [-1, 128, 16, 16]         147,584\n",
            "      BatchNorm2d-12          [-1, 128, 16, 16]             256\n",
            "             ReLU-13          [-1, 128, 16, 16]               0\n",
            "        MaxPool2d-14            [-1, 128, 8, 8]               0\n",
            "           Conv2d-15            [-1, 256, 8, 8]         295,168\n",
            "      BatchNorm2d-16            [-1, 256, 8, 8]             512\n",
            "             ReLU-17            [-1, 256, 8, 8]               0\n",
            "           Conv2d-18            [-1, 256, 8, 8]         590,080\n",
            "      BatchNorm2d-19            [-1, 256, 8, 8]             512\n",
            "             ReLU-20            [-1, 256, 8, 8]               0\n",
            "           Conv2d-21            [-1, 256, 8, 8]         590,080\n",
            "      BatchNorm2d-22            [-1, 256, 8, 8]             512\n",
            "             ReLU-23            [-1, 256, 8, 8]               0\n",
            "        MaxPool2d-24            [-1, 256, 4, 4]               0\n",
            "           Conv2d-25            [-1, 512, 4, 4]       1,180,160\n",
            "      BatchNorm2d-26            [-1, 512, 4, 4]           1,024\n",
            "             ReLU-27            [-1, 512, 4, 4]               0\n",
            "           Conv2d-28            [-1, 512, 4, 4]       2,359,808\n",
            "      BatchNorm2d-29            [-1, 512, 4, 4]           1,024\n",
            "             ReLU-30            [-1, 512, 4, 4]               0\n",
            "           Conv2d-31            [-1, 512, 4, 4]       2,359,808\n",
            "      BatchNorm2d-32            [-1, 512, 4, 4]           1,024\n",
            "             ReLU-33            [-1, 512, 4, 4]               0\n",
            "        MaxPool2d-34            [-1, 512, 2, 2]               0\n",
            "           Conv2d-35            [-1, 512, 2, 2]       2,359,808\n",
            "      BatchNorm2d-36            [-1, 512, 2, 2]           1,024\n",
            "             ReLU-37            [-1, 512, 2, 2]               0\n",
            "           Conv2d-38            [-1, 512, 2, 2]       2,359,808\n",
            "      BatchNorm2d-39            [-1, 512, 2, 2]           1,024\n",
            "             ReLU-40            [-1, 512, 2, 2]               0\n",
            "           Conv2d-41            [-1, 512, 2, 2]       2,359,808\n",
            "      BatchNorm2d-42            [-1, 512, 2, 2]           1,024\n",
            "             ReLU-43            [-1, 512, 2, 2]               0\n",
            "        MaxPool2d-44            [-1, 512, 1, 1]               0\n",
            "        AvgPool2d-45            [-1, 512, 1, 1]               0\n",
            "           Linear-46                   [-1, 10]           5,130\n",
            "================================================================\n",
            "Total params: 14,728,266\n",
            "Trainable params: 14,728,266\n",
            "Non-trainable params: 0\n",
            "----------------------------------------------------------------\n",
            "Input size (MB): 0.01\n",
            "Forward/backward pass size (MB): 6.57\n",
            "Params size (MB): 56.18\n",
            "Estimated Total Size (MB): 62.77\n",
            "----------------------------------------------------------------\n"
          ]
        }
      ],
      "source": [
        "print(net)\n",
        "summary_(net, input_size=(3, 32, 32), device=device)"
      ]
    },
    {
      "cell_type": "markdown",
      "metadata": {
        "id": "SXLnGlLgdyZ2"
      },
      "source": [
        "# **Loss function and optimizer**\n",
        "\n",
        "Set the **loss function and optimizer** for training CNN.\n",
        "You can modify the loss function or optimizer for better performance."
      ]
    },
    {
      "cell_type": "code",
      "execution_count": null,
      "metadata": {
        "id": "oB0f6C2npeoj"
      },
      "outputs": [],
      "source": [
        "# Loss function and optimizer\n",
        "\n",
        "# 이 코드는 손실 함수와 옵티마이저를 설정하는 부분입니다.\n",
        "\n",
        "# loss_fun: 분류 작업을 위한 손실 함수로서, nn.CrossEntropyLoss()를 사용합니다. 이 함수는 다중 클래스 분류에서 사용되며, 입력으로 예측값과 정답 라벨을 받아 손실을 계산합니다.\n",
        "# optimizer: 모델의 파라미터를 업데이트하는데 사용되는 최적화 알고리즘입니다. 여기서는 Adam 옵티마이저를 사용하며, net.parameters()를 통해 모델의 학습 가능한 파라미터들을 전달합니다.\n",
        "#  lr=0.001은 학습률(learning rate)로서, 파라미터 업데이트의 크기를 결정합니다.\n",
        "# scheduler: 학습률 스케줄러입니다. 여기서는 StepLR 스케줄러를 사용합니다. step_size는 학습률을 조절하는 주기(step size)를 나타내며, gamma는 학습률을 감소시키는 비율을 나타냅니다. 주어진 주기마다 학습률을 감소시키는 데 사용됩니다.\n",
        "\n",
        "\n",
        "\n",
        "loss_fun = nn.CrossEntropyLoss()    # -log에 대해 값들이 10개로 나옴. 이 값들에 exponential을 취함. 왜 하\n",
        "optimizer = torch.optim.Adam(net.parameters(), lr=0.0001)\n",
        "# optimizer의 매개변수로 weight decay value를 넣어줄 수 있는데, 이때 이 값은 앞선 식에서 lambda를 의미한다. \n",
        "scheduler = torch.optim.lr_scheduler.StepLR(optimizer, step_size=5, gamma=0.9)\n",
        "#scheduler = torch.optim.lr_scheduler.StepLR(optimizer, step_size=10, gamma=0.1) # 지? log를 활용하기 때문에 계산을 편하게 하기 위해. CrossEntropyLoss는 필수 활용해라"
      ]
    },
    {
      "cell_type": "markdown",
      "metadata": {
        "id": "DInMRCnReWno"
      },
      "source": [
        "# **Train the network**\n",
        "\n",
        "Train your own network using the above loss function and optimizer."
      ]
    },
    {
      "cell_type": "code",
      "source": [
        "# tensor board\n",
        "from torch.utils.tensorboard import SummaryWriter\n",
        "writer = SummaryWriter('./logs/vgg16')"
      ],
      "metadata": {
        "id": "i1bivW9w3m-j"
      },
      "execution_count": null,
      "outputs": []
    },
    {
      "cell_type": "code",
      "execution_count": null,
      "metadata": {
        "colab": {
          "base_uri": "https://localhost:8080/"
        },
        "id": "2vvD0eNCpqxj",
        "outputId": "9394e79d-db5d-4a6d-c88c-595f8fb5c691"
      },
      "outputs": [
        {
          "output_type": "stream",
          "name": "stdout",
          "text": [
            "[Epoch - 1, Iteration -  5000] Loss: 1.839\n",
            "[Epoch - 1, Iteration - 10000] Loss: 0.742\n",
            "[Epoch - 1] Loss: 1.593\n",
            "[Epoch - 2, Iteration -  5000] Loss: 1.227\n",
            "[Epoch - 2, Iteration - 10000] Loss: 0.557\n",
            "[Epoch - 2] Loss: 1.146\n",
            "[Epoch - 3, Iteration -  5000] Loss: 0.983\n",
            "[Epoch - 3, Iteration - 10000] Loss: 0.475\n",
            "[Epoch - 3] Loss: 0.955\n",
            "[Epoch - 4, Iteration -  5000] Loss: 0.861\n",
            "[Epoch - 4, Iteration - 10000] Loss: 0.421\n",
            "[Epoch - 4] Loss: 0.846\n",
            "[Epoch - 5, Iteration -  5000] Loss: 0.775\n",
            "[Epoch - 5, Iteration - 10000] Loss: 0.379\n",
            "[Epoch - 5] Loss: 0.762\n",
            "[Epoch - 6, Iteration -  5000] Loss: 0.703\n",
            "[Epoch - 6, Iteration - 10000] Loss: 0.339\n",
            "[Epoch - 6] Loss: 0.686\n",
            "[Epoch - 7, Iteration -  5000] Loss: 0.644\n",
            "[Epoch - 7, Iteration - 10000] Loss: 0.319\n",
            "[Epoch - 7] Loss: 0.638\n",
            "[Epoch - 8, Iteration -  5000] Loss: 0.599\n",
            "[Epoch - 8, Iteration - 10000] Loss: 0.304\n",
            "[Epoch - 8] Loss: 0.602\n",
            "[Epoch - 9, Iteration -  5000] Loss: 0.571\n",
            "[Epoch - 9, Iteration - 10000] Loss: 0.282\n",
            "[Epoch - 9] Loss: 0.564\n",
            "[Epoch - 10, Iteration -  5000] Loss: 0.526\n",
            "[Epoch - 10, Iteration - 10000] Loss: 0.268\n",
            "[Epoch - 10] Loss: 0.534\n",
            "[Epoch - 11, Iteration -  5000] Loss: 0.498\n",
            "[Epoch - 11, Iteration - 10000] Loss: 0.247\n",
            "[Epoch - 11] Loss: 0.495\n",
            "[Epoch - 12, Iteration -  5000] Loss: 0.465\n",
            "[Epoch - 12, Iteration - 10000] Loss: 0.239\n",
            "[Epoch - 12] Loss: 0.470\n",
            "[Epoch - 13, Iteration -  5000] Loss: 0.443\n",
            "[Epoch - 13, Iteration - 10000] Loss: 0.223\n",
            "[Epoch - 13] Loss: 0.446\n",
            "[Epoch - 14, Iteration -  5000] Loss: 0.424\n",
            "[Epoch - 14, Iteration - 10000] Loss: 0.212\n",
            "[Epoch - 14] Loss: 0.424\n",
            "[Epoch - 15, Iteration -  5000] Loss: 0.408\n",
            "[Epoch - 15, Iteration - 10000] Loss: 0.204\n",
            "[Epoch - 15] Loss: 0.412\n",
            "[Epoch - 16, Iteration -  5000] Loss: 0.380\n",
            "[Epoch - 16, Iteration - 10000] Loss: 0.195\n",
            "[Epoch - 16] Loss: 0.386\n",
            "[Epoch - 17, Iteration -  5000] Loss: 0.366\n",
            "[Epoch - 17, Iteration - 10000] Loss: 0.184\n"
          ]
        }
      ],
      "source": [
        "# 이 코드는 모델을 학습시키는 부분입니다.\n",
        "\n",
        "# epochs: 전체 데이터셋을 몇 번 반복하여 학습할지를 결정하는 변수입니다.\n",
        "# for epoch in range(epochs):: 주어진 epoch 수만큼 반복합니다.\n",
        "# loss_tmp와 epoch_loss는 손실(loss) 값을 기록하기 위한 변수입니다.\n",
        "# for i, data in enumerate(trainloader, start=0):: trainloader를 이용하여 미니배치 단위로 데이터를 가져옵니다. i는 현재 미니배치의 인덱스를 나타냅니다.\n",
        "# inputs, labels = data: 데이터로부터 입력(inputs)과 라벨(labels)을 가져옵니다.\n",
        "# inputs = inputs.to(device), labels = labels.to(device): 데이터를 지정한 디바이스(GPU 또는 CPU)로 이동합니다.\n",
        "# outputs = net(inputs): 입력을 모델에 전달하여 예측값을 계산합니다.\n",
        "# loss = loss_fun(outputs, labels): 모델의 출력과 정답 라벨을 사용하여 손실을 계산합니다.\n",
        "# optimizer.zero_grad(): 옵티마이저의 그래디언트를 초기화합니다.\n",
        "# loss.backward(): 손실에 대한 역전파를 수행하여 그래디언트를 계산합니다.\n",
        "# optimizer.step(): 그래디언트를 사용하여 모델의 파라미터를 업데이트합니다.\n",
        "# loss_tmp += loss.data, epoch_loss += loss.data: 현재 미니배치의 손실 값을 누적합니다.\n",
        "# if i % 5000 == 4999:: 일정한 주기로 손실 값을 출력합니다. 여기서는 매 5000번째 미니배치마다 출력합니다.\n",
        "# scheduler.step(): 학습률 스케줄러를 통해 학습률을 업데이트합니다.\n",
        "# print('[Epoch - %d] Loss: %.3f' %(epoch + 1, epoch_loss / (i+1))): 에포크마다 손실 값을 출력합니다.\n",
        "# print('Finished Training'): 학습이 완료되었음을 출력합니다.\n",
        "\n",
        "# Train the model\n",
        "epochs =30  # number of epochs  \n",
        "\n",
        "for epoch in range(epochs):\n",
        "\n",
        "    loss_tmp = 0.0\n",
        "    epoch_loss = 0.0 \n",
        "    \n",
        "    for i, data in enumerate(trainloader, start=0):\n",
        "        # Load the data\n",
        "        inputs, labels = data\n",
        "        inputs = inputs.to(device)    # cpu에 있는 코드를 gpu로 보내줌\n",
        "        labels = labels.to(device)\n",
        "\n",
        "        # Estimate the output using the network\n",
        "        outputs = net(inputs)\n",
        "\n",
        "        # Calculate the loss between the output of the network and label\n",
        "        loss = loss_fun(outputs, labels)\n",
        "\n",
        "        # Optimize the network \n",
        "        optimizer.zero_grad()\n",
        "        loss.backward()   # backpropagation 해서 gradient 구한다\n",
        "        optimizer.step()\n",
        "\n",
        "        loss_tmp += loss.data\n",
        "        epoch_loss += loss.data\n",
        "\n",
        "        if i % 5000 == 4999:    # Print loss every 5000 mini-batches\n",
        "            print('[Epoch - %d, Iteration - %5d] Loss: %.3f' %\n",
        "                  (epoch + 1, i + 1, loss_tmp / (i+1)))\n",
        "            loss_tmp = 0.0\n",
        "\n",
        "    # Update the learning rate according to the learnig rate scheduler\n",
        "    scheduler.step()\n",
        "\n",
        "    # tensorboard: train_loss 기록\n",
        "    writer.add_scalar('Loss/train', epoch_loss / (i+1), epoch)\n",
        "\n",
        "    # Print the epoch loss\n",
        "    print('[Epoch - %d] Loss: %.3f' %(epoch + 1, epoch_loss / (i+1)))\n",
        "\n",
        "print('Finished Training')"
      ]
    },
    {
      "cell_type": "code",
      "execution_count": null,
      "metadata": {
        "id": "erdS6tqsBBYk"
      },
      "outputs": [],
      "source": [
        "writer.close()"
      ]
    },
    {
      "cell_type": "markdown",
      "metadata": {
        "id": "CgDA6_LlfNhE"
      },
      "source": [
        "# **Test the network**\n",
        "\n",
        "Test the trained network using the testset.\n",
        "\n",
        "Accuracy of the network on the 10,000 test images is the final accuracy of your network. \n",
        "\n",
        "The closer the accuray is to 100%, the better the network classifies the input image."
      ]
    },
    {
      "cell_type": "code",
      "execution_count": null,
      "metadata": {
        "id": "fNfptwqLqpdA"
      },
      "outputs": [],
      "source": [
        "# dataiter_test = iter(testloader): 테스트 데이터 로더에서 데이터를 가져옵니다.\n",
        "# img_test, labels_test = next(dataiter_test): 테스트 데이터에서 이미지와 라벨을 가져옵니다.\n",
        "# imshow(torchvision.utils.make_grid(img_test)): 테스트 이미지를 시각화하여 출력합니다.\n",
        "# print('GroundTruth: ', ' '.join('%5s' % classes[labels_test[j]] for j in range(4))): 실제 정답 라벨을 출력합니다.\n",
        "# img_test = img_test.to(device), labels_test = labels_test.to(device): 데이터를 지정한 디바이스(GPU 또는 CPU)로 이동합니다.\n",
        "# outputs_test = net(img_test): 테스트 이미지를 모델에 전달하여 예측값을 계산합니다.\n",
        "# _, predicted = torch.max(outputs_test.data, 1): 예측값 중 가장 큰 값을 가지는 클래스를 선택합니다.\n",
        "# print('Predicted: ', ' '.join('%5s' % classes[predicted[j]] for j in range(4))): 예측된 클래스를 출력합니다.\n",
        "\n",
        "# Test the trained model with sample\n",
        "\n",
        "# test코드는 고치지 말고 그대로 사용해도 ㄱㅊ\n",
        "\n",
        "dataiter_test = iter(testloader)\n",
        "img_test, labels_test = next(dataiter_test)\n",
        "\n",
        "imshow(torchvision.utils.make_grid(img_test))\n",
        "print('GroundTruth: ', ' '.join('%5s' % classes[labels_test[j]] for j in range(4)))\n",
        "\n",
        "img_test = img_test.to(device)\n",
        "labels_test = labels_test.to(device)\n",
        "\n",
        "# Prediction\n",
        "outputs_test = net(img_test)\n",
        "_, predicted = torch.max(outputs_test.data, 1)\n",
        "print('Predicted: ', ' '.join('%5s' % classes[predicted[j]] for j in range(4)))"
      ]
    },
    {
      "cell_type": "code",
      "execution_count": null,
      "metadata": {
        "id": "DNrXRT1NrJft"
      },
      "outputs": [],
      "source": [
        "# epochs: 전체 데이터셋을 몇 번 반복하여 학습할지를 결정하는 변수입니다.\n",
        "# for epoch in range(epochs):: 주어진 epoch 수만큼 반복합니다.\n",
        "# loss_tmp와 epoch_loss는 손실(loss) 값을 기록하기 위한 변수입니다.\n",
        "# for i, data in enumerate(trainloader, start=0):: trainloader를 이용하여 미니배치 단위로 데이터를 가져옵니다. i는 현재 미니배치의 인덱스를 나타냅니다.\n",
        "# inputs, labels = data: 데이터로부터 입력(inputs)과 라벨(labels)을 가져옵니다.\n",
        "# inputs = inputs.to(device), labels = labels.to(device): 데이터를 지정한 디바이스(GPU 또는 CPU)로 이동합니다.\n",
        "# outputs = net(inputs): 입력을 모델에 전달하여 예측값을 계산합니다.\n",
        "# loss = loss_fun(outputs, labels): 모델의 출력과 정답 라벨을 사용하여 손실을 계산합니다.\n",
        "# optimizer.zero_grad(): 옵티마이저의 그래디언트를 초기화합니다.\n",
        "# loss.backward(): 손실에 대한 역전파를 수행하여 그래디언트를 계산합니다.\n",
        "# optimizer.step(): 그래디언트를 사용하여 모델의 파라미터를 업데이트합니다.\n",
        "# loss_tmp += loss.data, epoch_loss += loss.data: 현재 미니배치의 손실 값을 누적합니다.\n",
        "# if i % 5000 == 4999:: 일정한 주기로 손실 값을 출력합니다. 여기서는 매 5000번째 미니배치마다 출력합니다.\n",
        "# scheduler.step(): 학습률 스케줄러를 통해 학습률을 업데이트합니다.\n",
        "# print('[Epoch - %d] Loss: %.3f' %(epoch + 1, epoch_loss / (i+1))): 에포크마다 손실 값을 출력합니다.\n",
        "# print('Finished Training'): 학습이 완료되었음을 출력합니다.\n",
        "\n",
        "\n",
        "# Test the trained model with overall test dataset\n",
        "\n",
        "correct = 0\n",
        "total = 0\n",
        "for data in testloader:\n",
        "    # Load the data\n",
        "    inputs_test, labels_test = data\n",
        "    inputs_test = inputs_test.to(device)\n",
        "    labels_test = labels_test.to(device)\n",
        "\n",
        "    # Estimate the output using the trained network\n",
        "    outputs_test = net(inputs_test)\n",
        "    _, predicted = torch.max(outputs_test.data, 1)\n",
        "    \n",
        "    # Calculate the accuracy\n",
        "    total += labels_test.size(0)\n",
        "    correct += (predicted == labels_test).sum()\n",
        "\n",
        "# Final accuracy\n",
        "print('Accuracy of the network on the 10,000 test images: %d %%' % (100 * correct / total))\n",
        "\n",
        "\n",
        "## [SimpleNet / Training 5 epochs] Accuracy of the network on the 10,000 test images: 9 %\n",
        "## [VGG11 / Training 5 epochs] Accuracy of the network on the 10,000 test images: 11 %\n",
        "\n",
        "## [VGG11 / Training 5 epochs] Accuracy of the network on the 10,000 test images:  68%\n",
        "## [VGG11 / Training 10 epochs] Accuracy of the network on the 10,000 test images: 79 %\n",
        "\n",
        "## schedular 변경, 68%\n",
        "# epoch 50 2시간 이상 소요.... 89%\n",
        "# epoch 10 30분 소요 ...83%\n",
        "# 데마개 no initialize weight epoch 10 ...77%\n",
        "# 데마개 with initialize wiehgt epoch 10 ...80%\n",
        "# 데마개 with initialize wiehgt epoch 30 ... 1시간 30분 소요 예상하나.. 오늘은 여기까지 \n",
        "\n",
        "# 다시 이전 모델로 돌아옴\n",
        "# epoch 5... 20분 소요 ... 78%\n",
        "# epoch 5, def forward(self, x):    out = F.normalize(x, dim=0) ... 77%\n",
        "# epoch 10, def forward(self, x):    out = F.normalize(x, dim=0) ... 83%\n",
        "# epoch 30 def forward(self, x):    out = F.normalize(x, dim=0) ... 88%\n",
        "\n",
        "# batch normalization이나 dropout, 기타 l1norm, l2norm 의 regularization\n",
        "# epoch 10   l2. weight_deacy=0.9 ... 10% (왜지\n",
        "\n",
        "# epoch 10 weight decay 없애고 data augmentation 수정.. 80%\n",
        "# epoch 30 ... data augmentation 수정 ... 81% ( 과도한 augmentation도 accuracy를 떨어뜨릴 수 있구나)\n",
        "# epoch 10 data augmentation에서 hue가 바뀌었을 때 accuracy가 떨어지는 것 같음 ... 76%\n",
        "\n",
        "\n",
        "# 6/4일 epoch 50 ... 89%\n",
        "\n",
        "# 특이점 : 앞서 Color Jitter (0.2, 0.2, 0.2, 0.1)로 변경, \n",
        "# RandomHorizontalFlip()해서 최종 결과 76% 나왔음에도 불구하고 (10epoch 기준, 변환 이전엔 77%) Predicted에서 cat, ship, ship, plane으로 라벨을 모두 맞춤. \n",
        "# 그러나 현 epoch50을 돌린 모델은 89%가 나옴에도 불구하고 cat, ship, car, plane으로 라벨을 제대로 맞추지 못하는 모습을 보임.\n",
        "\n",
        "# 주요 변환 : \n",
        "# DataLoader → Augmentation\n",
        "# DataLoader - batch size 4 변경 / https://inhovation97.tistory.com/32 : 참고 글. batch size와 lr의 상관관계. (lr과 batch size가 작도록 설정함)\n",
        "# Your own CNN - 인터넷에서 기존 모델 사용 / Your own CNN - 인터넷에서 기존 모델 사용\n",
        "\n",
        "# Loss function and optimizer - Adam 그대로 사용\n",
        "#   learning rate = 0.0001\n",
        "#   step size : 5\n",
        "#   gamma = 0.9"
      ]
    },
    {
      "cell_type": "code",
      "source": [
        "%reload_ext tensorboard\n",
        "%tensorboard --logdir=/content/logs"
      ],
      "metadata": {
        "id": "LqBmJd4-3tVS"
      },
      "execution_count": null,
      "outputs": []
    }
  ],
  "metadata": {
    "accelerator": "GPU",
    "colab": {
      "provenance": [],
      "gpuType": "T4",
      "include_colab_link": true
    },
    "kernelspec": {
      "display_name": "Python 3",
      "name": "python3"
    },
    "language_info": {
      "name": "python"
    }
  },
  "nbformat": 4,
  "nbformat_minor": 0
}